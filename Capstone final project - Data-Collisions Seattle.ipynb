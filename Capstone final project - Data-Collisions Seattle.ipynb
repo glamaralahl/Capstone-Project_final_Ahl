{
    "cells": [
        {
            "metadata": {},
            "cell_type": "markdown",
            "source": "## Introduction/Business Problem\n\n### I will research and evaluate the dataset \"car accident severity\" in the city of Seattle in this final capstone project. I will analyze and determine how weather conditions affect the severity of car accidents. It's very common for people to relate bad weather to more road accidents, so we usually tend to drive more carefully when the weather is not favorable. Does bad weather directly translates to more car accidents? That is exactly what we will try to verify - if the bad weather play a big role in causing more car accidents."
        },
        {
            "metadata": {},
            "cell_type": "markdown",
            "source": "## Data\n\n### The dataset used for this final project is the Example Dataset, Data-Collisions, city of Seattle, provided by IBM/Cousera. The dataset includes data from 2004 to 2018 that address all types of collisions, it includes many types of attributes that can have some impact in the accident itself and the severity of it. The dataset consists of 194673, each row represents a accident consisting of 38 factors that may affect the severity of the accident."
        },
        {
            "metadata": {},
            "cell_type": "markdown",
            "source": "## Methodology\n### I used the IBM cloud Pak for Data - Watson Studio - to build a notebook and pushed the report on my Github repository to facilitalte review. I used Python as the primary language and imported numpy and pandas libraries. \n### I downloaded the cvs file, printed the data types to review the columns with the I needed to analyze my question.  I was able to  retrieve part of the data by printing the \"head\" of the cvs file. Then, I dropped all the columns I didn't need for this project and renamed the column I would be working with the purpose of making the reading of the results more intuitive. I grouped the data from the two colums (weather, number of accidents) by the weather, so I could get a count of the number of accidents by the weather condition. I downloaded matplotlib to build some data visualisation, histogram and bar graph, to analyse the results."
        },
        {
            "metadata": {},
            "cell_type": "code",
            "source": "import numpy as np \nimport pandas as pd",
            "execution_count": 1,
            "outputs": []
        },
        {
            "metadata": {},
            "cell_type": "code",
            "source": "path = 'https://s3.us.cloud-object-storage.appdomain.cloud/cf-courses-data/CognitiveClass/DP0701EN/version-2/Data-Collisions.csv'\ndf = pd.read_csv(path)",
            "execution_count": 2,
            "outputs": [
                {
                    "output_type": "stream",
                    "text": "/opt/conda/envs/Python36/lib/python3.6/site-packages/IPython/core/interactiveshell.py:3020: DtypeWarning: Columns (33) have mixed types. Specify dtype option on import or set low_memory=False.\n  interactivity=interactivity, compiler=compiler, result=result)\n",
                    "name": "stderr"
                }
            ]
        },
        {
            "metadata": {
                "scrolled": true
            },
            "cell_type": "code",
            "source": "print(df.dtypes) ",
            "execution_count": 3,
            "outputs": [
                {
                    "output_type": "stream",
                    "text": "SEVERITYCODE        int64\nX                 float64\nY                 float64\nOBJECTID            int64\nINCKEY              int64\nCOLDETKEY           int64\nREPORTNO           object\nSTATUS             object\nADDRTYPE           object\nINTKEY            float64\nLOCATION           object\nEXCEPTRSNCODE      object\nEXCEPTRSNDESC      object\nSEVERITYCODE.1      int64\nSEVERITYDESC       object\nCOLLISIONTYPE      object\nPERSONCOUNT         int64\nPEDCOUNT            int64\nPEDCYLCOUNT         int64\nVEHCOUNT            int64\nINCDATE            object\nINCDTTM            object\nJUNCTIONTYPE       object\nSDOT_COLCODE        int64\nSDOT_COLDESC       object\nINATTENTIONIND     object\nUNDERINFL          object\nWEATHER            object\nROADCOND           object\nLIGHTCOND          object\nPEDROWNOTGRNT      object\nSDOTCOLNUM        float64\nSPEEDING           object\nST_COLCODE         object\nST_COLDESC         object\nSEGLANEKEY          int64\nCROSSWALKKEY        int64\nHITPARKEDCAR       object\ndtype: object\n",
                    "name": "stdout"
                }
            ]
        },
        {
            "metadata": {
                "scrolled": true
            },
            "cell_type": "code",
            "source": "df.drop(['X', 'Y', 'OBJECTID', 'INCKEY', 'COLDETKEY', 'REPORTNO', 'STATUS', 'ADDRTYPE', 'INTKEY', 'LOCATION', 'SEVERITYCODE.1', 'SEVERITYDESC', 'COLLISIONTYPE', 'EXCEPTRSNCODE', 'EXCEPTRSNDESC', 'PERSONCOUNT', 'PEDCOUNT', 'PEDCYLCOUNT','VEHCOUNT', 'INCDATE', 'INCDTTM', 'JUNCTIONTYPE', 'SDOT_COLCODE', 'SDOT_COLDESC', 'INATTENTIONIND', 'UNDERINFL', 'ROADCOND','LIGHTCOND', 'PEDROWNOTGRNT', 'SDOTCOLNUM', 'SPEEDING', 'ST_COLCODE', 'ST_COLDESC', 'SEGLANEKEY', 'CROSSWALKKEY', 'HITPARKEDCAR' ], axis=1, inplace=True)",
            "execution_count": 4,
            "outputs": []
        },
        {
            "metadata": {},
            "cell_type": "code",
            "source": "df.rename (columns = {'SEVERITYCODE':'Number of Accidents'}, inplace = True)\n",
            "execution_count": 5,
            "outputs": []
        },
        {
            "metadata": {},
            "cell_type": "code",
            "source": "df.head()",
            "execution_count": 6,
            "outputs": [
                {
                    "output_type": "execute_result",
                    "execution_count": 6,
                    "data": {
                        "text/plain": "   Number of Accidents   WEATHER\n0                    2  Overcast\n1                    1   Raining\n2                    1  Overcast\n3                    1     Clear\n4                    2   Raining",
                        "text/html": "<div>\n<style scoped>\n    .dataframe tbody tr th:only-of-type {\n        vertical-align: middle;\n    }\n\n    .dataframe tbody tr th {\n        vertical-align: top;\n    }\n\n    .dataframe thead th {\n        text-align: right;\n    }\n</style>\n<table border=\"1\" class=\"dataframe\">\n  <thead>\n    <tr style=\"text-align: right;\">\n      <th></th>\n      <th>Number of Accidents</th>\n      <th>WEATHER</th>\n    </tr>\n  </thead>\n  <tbody>\n    <tr>\n      <th>0</th>\n      <td>2</td>\n      <td>Overcast</td>\n    </tr>\n    <tr>\n      <th>1</th>\n      <td>1</td>\n      <td>Raining</td>\n    </tr>\n    <tr>\n      <th>2</th>\n      <td>1</td>\n      <td>Overcast</td>\n    </tr>\n    <tr>\n      <th>3</th>\n      <td>1</td>\n      <td>Clear</td>\n    </tr>\n    <tr>\n      <th>4</th>\n      <td>2</td>\n      <td>Raining</td>\n    </tr>\n  </tbody>\n</table>\n</div>"
                    },
                    "metadata": {}
                }
            ]
        },
        {
            "metadata": {},
            "cell_type": "code",
            "source": "df.shape",
            "execution_count": 7,
            "outputs": [
                {
                    "output_type": "execute_result",
                    "execution_count": 7,
                    "data": {
                        "text/plain": "(194673, 2)"
                    },
                    "metadata": {}
                }
            ]
        },
        {
            "metadata": {},
            "cell_type": "code",
            "source": "df_sevweather = df.groupby('WEATHER', axis=0).count()\ndf_sevweather.head()",
            "execution_count": 8,
            "outputs": [
                {
                    "output_type": "execute_result",
                    "execution_count": 8,
                    "data": {
                        "text/plain": "                   Number of Accidents\nWEATHER                               \nBlowing Sand/Dirt                   56\nClear                           111135\nFog/Smog/Smoke                     569\nOther                              832\nOvercast                         27714",
                        "text/html": "<div>\n<style scoped>\n    .dataframe tbody tr th:only-of-type {\n        vertical-align: middle;\n    }\n\n    .dataframe tbody tr th {\n        vertical-align: top;\n    }\n\n    .dataframe thead th {\n        text-align: right;\n    }\n</style>\n<table border=\"1\" class=\"dataframe\">\n  <thead>\n    <tr style=\"text-align: right;\">\n      <th></th>\n      <th>Number of Accidents</th>\n    </tr>\n    <tr>\n      <th>WEATHER</th>\n      <th></th>\n    </tr>\n  </thead>\n  <tbody>\n    <tr>\n      <th>Blowing Sand/Dirt</th>\n      <td>56</td>\n    </tr>\n    <tr>\n      <th>Clear</th>\n      <td>111135</td>\n    </tr>\n    <tr>\n      <th>Fog/Smog/Smoke</th>\n      <td>569</td>\n    </tr>\n    <tr>\n      <th>Other</th>\n      <td>832</td>\n    </tr>\n    <tr>\n      <th>Overcast</th>\n      <td>27714</td>\n    </tr>\n  </tbody>\n</table>\n</div>"
                    },
                    "metadata": {}
                }
            ]
        },
        {
            "metadata": {},
            "cell_type": "code",
            "source": "df[\"WEATHER\"].value_counts()",
            "execution_count": 9,
            "outputs": [
                {
                    "output_type": "execute_result",
                    "execution_count": 9,
                    "data": {
                        "text/plain": "Clear                       111135\nRaining                      33145\nOvercast                     27714\nUnknown                      15091\nSnowing                        907\nOther                          832\nFog/Smog/Smoke                 569\nSleet/Hail/Freezing Rain       113\nBlowing Sand/Dirt               56\nSevere Crosswind                25\nPartly Cloudy                    5\nName: WEATHER, dtype: int64"
                    },
                    "metadata": {}
                }
            ]
        },
        {
            "metadata": {},
            "cell_type": "code",
            "source": "df['Number of Accidents'].value_counts()",
            "execution_count": 10,
            "outputs": [
                {
                    "output_type": "execute_result",
                    "execution_count": 10,
                    "data": {
                        "text/plain": "1    136485\n2     58188\nName: Number of Accidents, dtype: int64"
                    },
                    "metadata": {}
                }
            ]
        },
        {
            "metadata": {},
            "cell_type": "code",
            "source": "df[\"WEATHER\"] = df[\"WEATHER\"].str.lower()",
            "execution_count": 11,
            "outputs": []
        },
        {
            "metadata": {},
            "cell_type": "code",
            "source": "# use the inline backend to generate the plots within the browser\n%matplotlib inline \n \nimport matplotlib as mpl\nimport matplotlib.pyplot as plt\n\nmpl.style.use('ggplot') # optional: for ggplot-like style\n\n# check for latest version of Matplotlib\nprint ('Matplotlib version: ', mpl.__version__) # >= 2.0.0",
            "execution_count": 12,
            "outputs": [
                {
                    "output_type": "stream",
                    "text": "Matplotlib version:  3.0.2\n",
                    "name": "stdout"
                }
            ]
        },
        {
            "metadata": {},
            "cell_type": "code",
            "source": "# np.histogram returns 2 values\ncount, bin_edges = np.histogram(df_sevweather['Number of Accidents'])\n\nprint(count) # frequency count\nprint(bin_edges) # bin ranges, default = 10 bins",
            "execution_count": 13,
            "outputs": [
                {
                    "output_type": "stream",
                    "text": "[7 1 2 0 0 0 0 0 0 1]\n[5.00000e+00 1.11180e+04 2.22310e+04 3.33440e+04 4.44570e+04 5.55700e+04\n 6.66830e+04 7.77960e+04 8.89090e+04 1.00022e+05 1.11135e+05]\n",
                    "name": "stdout"
                }
            ]
        },
        {
            "metadata": {},
            "cell_type": "code",
            "source": "df_sevweather['Number of Accidents'].plot(kind='hist', figsize=(8, 5))\n\nplt.title('Histogram of the factor weather in the number of accidents') # add a title to the histogram\nplt.ylabel('Weather') # add y-label\nplt.xlabel('accidents') # add x-label\n\nplt.show()",
            "execution_count": 14,
            "outputs": [
                {
                    "output_type": "display_data",
                    "data": {
                        "text/plain": "<Figure size 576x360 with 1 Axes>",
                        "image/png": "[encoded data removed]"
                    },
                    "metadata": {
                        "needs_background": "light"
                    }
                }
            ]
        },
        {
            "metadata": {},
            "cell_type": "code",
            "source": "# let's create a new dataframe for the most common weather condition \ndf_sevweather1 = df_sevweather.loc[['Clear', 'Raining', 'Snowing'], :]\n\n# let's take a look at our dataframe\ndf_sevweather1",
            "execution_count": 15,
            "outputs": [
                {
                    "output_type": "execute_result",
                    "execution_count": 15,
                    "data": {
                        "text/plain": "         Number of Accidents\nWEATHER                     \nClear                 111135\nRaining                33145\nSnowing                  907",
                        "text/html": "<div>\n<style scoped>\n    .dataframe tbody tr th:only-of-type {\n        vertical-align: middle;\n    }\n\n    .dataframe tbody tr th {\n        vertical-align: top;\n    }\n\n    .dataframe thead th {\n        text-align: right;\n    }\n</style>\n<table border=\"1\" class=\"dataframe\">\n  <thead>\n    <tr style=\"text-align: right;\">\n      <th></th>\n      <th>Number of Accidents</th>\n    </tr>\n    <tr>\n      <th>WEATHER</th>\n      <th></th>\n    </tr>\n  </thead>\n  <tbody>\n    <tr>\n      <th>Clear</th>\n      <td>111135</td>\n    </tr>\n    <tr>\n      <th>Raining</th>\n      <td>33145</td>\n    </tr>\n    <tr>\n      <th>Snowing</th>\n      <td>907</td>\n    </tr>\n  </tbody>\n</table>\n</div>"
                    },
                    "metadata": {}
                }
            ]
        },
        {
            "metadata": {
                "scrolled": true
            },
            "cell_type": "code",
            "source": "# Plotting\nax = df_sevweather1.plot(kind='bar', \n                figsize=(20, 8),\n                rot=90,\n                color = ['#5cb85c','#5bc0de','#d9534f'],\n                width=.8,\n                fontsize=14)\n\n\n# Setting plot title\nax.set_title('Effect of the weather in the number of car accidents',fontsize=16)\n\n# Setting figure background color\nax.set_facecolor('white')\n\n# setting legend font size\nax.legend(fontsize=14,facecolor = 'white') \n\n# Removing the Border \nax.get_yaxis().set_visible(False)\n\n# Creating a function to display the percentage.\n\nfor p in ax.patches:\n    ax.annotate(np.round(p.get_height(),decimals=2), \n                (p.get_x()+p.get_width()/2., p.get_height()), \n                ha='center', \n                va='center', \n                xytext=(0, 10), \n                textcoords='offset points',\n                fontsize = 14\n               )\nplt.show()\n",
            "execution_count": 16,
            "outputs": [
                {
                    "output_type": "display_data",
                    "data": {
                        "text/plain": "<Figure size 1440x576 with 1 Axes>",
                        "image/png": "[encoded data removed]"
                    },
                    "metadata": {
                        "needs_background": "light"
                    }
                }
            ]
        },
        {
            "metadata": {},
            "cell_type": "markdown",
            "source": "## Results\n### The results of the data is showing me that car accidents happen mostly in clear weather. Raining weather came in second with most number of accidents and surprisingly snow weather came in fifth behind overcast and unknown weather."
        },
        {
            "metadata": {},
            "cell_type": "markdown",
            "source": "## Discussion\n### I consider the results of this data to be completely unexpected as I always thought that bad weather increases the risk and it's associated with more car accidents. Every time it snows, I actually see more accidents in the roads. It's important to mention that this project just take in consideration the weather and there are many other factors that have a great influence in car accidents; for example, road conditions. Also, there are other relevant variables that aren't part of the dataset, such as time of the day, traffic condition, age of the driver etc. I understand that looking at only one variable for this kind of analysis doesn't mimic the reality. So, more variables we use to analyze car accidents, closer we will get from the reality."
        },
        {
            "metadata": {},
            "cell_type": "markdown",
            "source": "## Conclusion\n\n### If you take in consideration the weather as the only variable influencing car accidents, we will get unexpected results, such as snow weather have less accidents than clear weather. The results of this data tells me that most accidents occur in clear weather, while it may be true to this variable, we have limiting factors that may be more important than the weather in the occurrence of these accidents. Therefore, in order to have results that approximate form the reality other variables would need to be included in this study. "
        },
        {
            "metadata": {},
            "cell_type": "markdown",
            "source": "# THANK YOU!"
        },
        {
            "metadata": {},
            "cell_type": "code",
            "source": "",
            "execution_count": null,
            "outputs": []
        }
    ],
    "metadata": {
        "kernelspec": {
            "name": "python3",
            "display_name": "Python 3.6",
            "language": "python"
        },
        "language_info": {
            "name": "python",
            "version": "3.6.9",
            "mimetype": "text/x-python",
            "codemirror_mode": {
                "name": "ipython",
                "version": 3
            },
            "pygments_lexer": "ipython3",
            "nbconvert_exporter": "python",
            "file_extension": ".py"
        }
    },
    "nbformat": 4,
    "nbformat_minor": 1
}